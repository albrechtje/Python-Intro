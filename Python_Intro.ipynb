{
  "cells": [
    {
      "cell_type": "markdown",
      "id": "j0QHe2MlbVQN",
      "metadata": {
        "id": "j0QHe2MlbVQN"
      },
      "source": [
        "M. Eng. Philipp Steigerwald <br>\n",
        "Prof. Dr. Jens Albrecht <br>\n",
        "Technische Hochschule Nürnberg Georg Simon Ohm <br>\n",
        "\n",
        "This notebook is licensed under Creative Commons Attribution-ShareAlike 4.0, allowing for sharing and modification."
      ]
    },
    {
      "cell_type": "markdown",
      "id": "472878e2",
      "metadata": {
        "id": "472878e2"
      },
      "source": [
        "# Introduction to Python Programming"
      ]
    },
    {
      "cell_type": "markdown",
      "id": "a9c43dda",
      "metadata": {
        "id": "a9c43dda"
      },
      "source": [
        "\n",
        "Python is a powerful, high-level programming language that has gained widespread popularity in various fields such as web development, data analysis, artificial intelligence, scientific computing, and more. It is known for its simplicity and readability, making it an excellent choice for beginners, yet it remains powerful enough for experts. This notebook aims to provide students, who may already be familiar with other programming languages, with a concise introduction to Python. We will cover fundamental concepts, data types, control structures, functions, and the use of Jupyter Notebooks for interactive programming and analysis.\n"
      ]
    },
    {
      "cell_type": "markdown",
      "id": "0db7f243",
      "metadata": {
        "id": "0db7f243"
      },
      "source": [
        "## Basic Concepts of Python"
      ]
    },
    {
      "cell_type": "markdown",
      "id": "9a6a754b",
      "metadata": {
        "id": "9a6a754b"
      },
      "source": [
        "\n",
        "Python is an interpreted language, which means that you can run the code as soon as you write it. This feature is particularly useful while learning, as it allows for immediate feedback. Let's start with some basic concepts and operations:\n"
      ]
    },
    {
      "cell_type": "code",
      "id": "155301be",
      "metadata": {
        "colab": {
          "base_uri": "https://localhost:8080/"
        },
        "id": "155301be",
        "outputId": "550448e5-ecfb-4e31-d294-c246b760112a",
        "ExecuteTime": {
          "end_time": "2025-03-13T18:59:15.612173Z",
          "start_time": "2025-03-13T18:59:15.610363Z"
        }
      },
      "source": [
        "# Printing to the console\n",
        "print(\"Hello, world!\")"
      ],
      "outputs": [
        {
          "output_type": "stream",
          "name": "stdout",
          "text": [
            "Hello, world!\n"
          ]
        }
      ],
      "execution_count": 1
    },
    {
      "cell_type": "code",
      "id": "D01VemoHd_PM",
      "metadata": {
        "colab": {
          "base_uri": "https://localhost:8080/"
        },
        "id": "D01VemoHd_PM",
        "outputId": "8d052c28-d128-4a19-ab84-03e18594e3b3",
        "ExecuteTime": {
          "end_time": "2025-03-13T18:59:15.629246Z",
          "start_time": "2025-03-13T18:59:15.627392Z"
        }
      },
      "source": [
        "# Printing the statement 3+2\n",
        "print(3+2)"
      ],
      "outputs": [
        {
          "output_type": "stream",
          "name": "stdout",
          "text": [
            "5\n"
          ]
        }
      ],
      "execution_count": 2
    },
    {
      "cell_type": "code",
      "id": "aD2--eQzeOjP",
      "metadata": {
        "id": "aD2--eQzeOjP",
        "ExecuteTime": {
          "end_time": "2025-03-13T18:59:15.645581Z",
          "start_time": "2025-03-13T18:59:15.643767Z"
        },
        "outputId": "39f3cbec-d5fd-4d3e-f6cd-3665d0728b5d",
        "colab": {
          "base_uri": "https://localhost:8080/"
        }
      },
      "source": [
        "# Variables and basic operations\n",
        "a = 10\n",
        "b = 5\n",
        "total = a + b\n",
        "print(\"The total of a and b is\", total)"
      ],
      "outputs": [
        {
          "output_type": "stream",
          "name": "stdout",
          "text": [
            "The total of a and b is 15\n"
          ]
        }
      ],
      "execution_count": 3
    },
    {
      "cell_type": "markdown",
      "id": "3c28a728",
      "metadata": {
        "id": "3c28a728"
      },
      "source": [
        "## Data Types and Structures"
      ]
    },
    {
      "cell_type": "markdown",
      "id": "c1877bf9",
      "metadata": {
        "id": "c1877bf9"
      },
      "source": [
        "\n",
        "Python supports various data types and structures. Here, we will briefly touch upon the basic types and their usage:<br><br>\n",
        "**Variables:**\n",
        "- Integers (`int`)\n",
        "- Floating-point numbers (`float`)\n",
        "- Strings (`str`)\n",
        "- Booleans (`bool`)\n",
        "\n",
        "**Data Structures:**\n",
        "- Tuples (`tuple`)\n",
        "- Sets (`set`)\n",
        "- Lists (`list`)\n",
        "- Dictionaries (`dict`)\n",
        "\n"
      ]
    },
    {
      "cell_type": "code",
      "id": "93010c33",
      "metadata": {
        "colab": {
          "base_uri": "https://localhost:8080/"
        },
        "id": "93010c33",
        "outputId": "e2d0cb63-ef3c-4c26-fba7-ac1993a22da7",
        "ExecuteTime": {
          "end_time": "2025-03-13T18:59:15.660453Z",
          "start_time": "2025-03-13T18:59:15.658315Z"
        }
      },
      "source": [
        "## Variables\n",
        "\n",
        "# Integers\n",
        "x = 10\n",
        "\n",
        "# Floats\n",
        "y = 20.5\n",
        "\n",
        "# String\n",
        "name = \"John Doe\"\n",
        "\n",
        "# Boolean\n",
        "is_student = True\n",
        "\n",
        "## Data Structure\n",
        "\n",
        "# List\n",
        "fruits = [\"apple\", \"banana\", \"cherry\"]\n",
        "\n",
        "# Tuple\n",
        "colors = (\"red\", \"green\", \"blue\")\n",
        "\n",
        "# Set\n",
        "unique_numbers = {1, 2, 3, 4, 5}\n",
        "\n",
        "# Dictionary\n",
        "person = {\"name\": \"Alice\", \"age\": 30}\n",
        "\n",
        "print(x, y, name, fruits, person, is_student, colors, unique_numbers, sep=\", \")"
      ],
      "outputs": [
        {
          "output_type": "stream",
          "name": "stdout",
          "text": [
            "10, 20.5, John Doe, ['apple', 'banana', 'cherry'], {'name': 'Alice', 'age': 30}, True, ('red', 'green', 'blue'), {1, 2, 3, 4, 5}\n"
          ]
        }
      ],
      "execution_count": 4
    },
    {
      "cell_type": "markdown",
      "id": "A8q8kaVMPp7A",
      "metadata": {
        "id": "A8q8kaVMPp7A"
      },
      "source": [
        "Understanding `None`:<br>\n",
        "`None` is a special data type in Python used to signify 'nothing' or a 'null value'. It is often used to represent the absence of a value or a default state. Unlike other programming languages that might use `null` or `nil`, Python uses `None` to define a null value. It is important to note that `None` is not equivalent to `False`, `0`, or an `empty string`. Instead, `None` is a unique null value all its own."
      ]
    },
    {
      "cell_type": "code",
      "id": "K-h6JUt2QD74",
      "metadata": {
        "colab": {
          "base_uri": "https://localhost:8080/"
        },
        "id": "K-h6JUt2QD74",
        "outputId": "3836ff9e-74ff-4ae3-8f73-7c5b179cafc6",
        "ExecuteTime": {
          "end_time": "2025-03-13T18:59:15.680651Z",
          "start_time": "2025-03-13T18:59:15.678921Z"
        }
      },
      "source": [
        "a_variable_without_value = None\n",
        "print(a_variable_without_value)"
      ],
      "outputs": [
        {
          "output_type": "stream",
          "name": "stdout",
          "text": [
            "None\n"
          ]
        }
      ],
      "execution_count": 5
    },
    {
      "cell_type": "markdown",
      "id": "XxWgZjB_bNgU",
      "metadata": {
        "id": "XxWgZjB_bNgU"
      },
      "source": [
        "## Boolean Operators and Comparison Operators\n"
      ]
    },
    {
      "cell_type": "markdown",
      "id": "CCkDTGjAcDIc",
      "metadata": {
        "id": "CCkDTGjAcDIc"
      },
      "source": [
        "**Basic Boolean Operations**\n",
        "<br>\n",
        "`and`: Returns `True` if both operands are ture. <br>\n",
        "`or`: Return `True`if at least one of the operands is true. <br>\n",
        "`not`: Inverts the boolean value of the operand."
      ]
    },
    {
      "cell_type": "code",
      "id": "r9aMceoNcCzy",
      "metadata": {
        "colab": {
          "base_uri": "https://localhost:8080/"
        },
        "id": "r9aMceoNcCzy",
        "outputId": "5b212231-3eed-4604-9e43-b191c7559e30",
        "ExecuteTime": {
          "end_time": "2025-03-13T18:59:15.703056Z",
          "start_time": "2025-03-13T18:59:15.701228Z"
        }
      },
      "source": [
        "# AND operation\n",
        "print(True and False)  # Output: False\n",
        "\n",
        "# OR operation\n",
        "print(True or False)  # Output: True\n",
        "\n",
        "# NOT operation\n",
        "print(not True)  # Output: False\n"
      ],
      "outputs": [
        {
          "output_type": "stream",
          "name": "stdout",
          "text": [
            "False\n",
            "True\n",
            "False\n"
          ]
        }
      ],
      "execution_count": 6
    },
    {
      "cell_type": "markdown",
      "id": "0B6t64cPcfhV",
      "metadata": {
        "id": "0B6t64cPcfhV"
      },
      "source": [
        "**Truthy and Falsy Values** <br>\n",
        "In Python, certain values are considered `False` in a boolean context, even though they are not explicitly the boolean value `False`. These are often referred to as \"falsy\" values. Conversely, values that are considered `True` are known as \"truthy\" values. <br>\n",
        "Falsy Values Include:<br>\n",
        "`False`: The boolean value false.<br>\n",
        "`None`: Represents the absence of a value.<br>\n",
        "`[]`: An empty list.<br>\n",
        "`{}`: An empty dictionary.<br>\n",
        "`\"\"`: An empty string.<br>\n",
        "`set()`: An empty set.<br>\n",
        "`0`: The integer zero.<br>\n",
        "`0.0`: The float zero.<br>"
      ]
    },
    {
      "cell_type": "markdown",
      "id": "t5TDrJ8uhsQW",
      "metadata": {
        "id": "t5TDrJ8uhsQW"
      },
      "source": [
        "The `bool()` function, like the `print()` function, is built-in and returns the boolean value (`True` or `False`) of any given input in Python. It's handy for checking if a value is \"truthy\" or \"falsy,\" directly supporting boolean logic in Python's control structures."
      ]
    },
    {
      "cell_type": "code",
      "id": "cB_5yGo3hGA3",
      "metadata": {
        "colab": {
          "base_uri": "https://localhost:8080/"
        },
        "id": "cB_5yGo3hGA3",
        "outputId": "03940374-36ee-4fac-b17f-5c7bd544ae18",
        "ExecuteTime": {
          "end_time": "2025-03-13T18:59:15.733696Z",
          "start_time": "2025-03-13T18:59:15.725157Z"
        }
      },
      "source": [
        "print(bool([]))  # Converts an empty list to boolean, prints: False\n",
        "print(bool({}))  # Converts an empty dictionary to boolean, prints: False\n",
        "print(bool(0))   # Converts integer zero to boolean, prints: False\n",
        "print(bool(0.0)) # Converts float zero to boolean, prints: False\n",
        "print(bool(None))# Converts None to boolean, prints: False"
      ],
      "outputs": [
        {
          "output_type": "stream",
          "name": "stdout",
          "text": [
            "False\n",
            "False\n",
            "False\n",
            "False\n",
            "False\n"
          ]
        }
      ],
      "execution_count": 7
    },
    {
      "cell_type": "markdown",
      "id": "6uBgytZNgG3M",
      "metadata": {
        "id": "6uBgytZNgG3M"
      },
      "source": [
        "**Comparison Operators** <br>\n",
        "In addition to boolean operators, Python provides several comparison operators that are used to compare values. These operators return True or False depending on the condition.\n",
        "\n",
        "**Equal to (`==`):** Checks if the values of two operands are equal.<br>\n",
        "**Not equal to (`!=`):** Checks if the values of two operands are not equal.<br>\n",
        "**Greater than (`>`):** Checks if the value of the left operand is greater than the value of the right operand.<br>\n",
        "**Less than (`<`):** Checks if the value of the left operand is less than the value of the right operand.<br>\n",
        "**Greater than or equal to (`>=`):** Checks if the value of the left operand is greater than or equal to the value of the right operand.<br>\n",
        "**Less than or equal to (`<=`):** Checks if the value of the left operand is less than or equal to the value of the right operand.\n"
      ]
    },
    {
      "cell_type": "code",
      "id": "Qn6bczVHihcZ",
      "metadata": {
        "colab": {
          "base_uri": "https://localhost:8080/"
        },
        "id": "Qn6bczVHihcZ",
        "outputId": "61571703-8b82-4e9c-f751-722355a1c567",
        "ExecuteTime": {
          "end_time": "2025-03-13T18:59:15.754931Z",
          "start_time": "2025-03-13T18:59:15.753031Z"
        }
      },
      "source": [
        "# Age of the person\n",
        "person_age = 16\n",
        "\n",
        "# Equal to: Checking if someone is exactly 18\n",
        "print(\"Is 18 years old:\", person_age == 18)  # True\n",
        "\n",
        "# Not equal to: Checking if someone is not 21\n",
        "print(\"Is not 21 years old:\", person_age != 21)  # True\n",
        "\n",
        "# Greater than: Checking if someone is older than 15\n",
        "print(\"Older than 15:\", person_age > 15)  # True\n",
        "\n",
        "# Less than: Checking if someone is younger than 20\n",
        "print(\"Younger than 20:\", person_age < 20)  # True\n",
        "\n",
        "# Greater than or equal to: Checking if someone is 18 or older\n",
        "print(\"18 or older:\", person_age >= 18)  # True\n",
        "\n",
        "# Less than or equal to: Checking if someone is 18 or younger\n",
        "print(\"18 or younger:\", person_age <= 18)  # True\n"
      ],
      "outputs": [
        {
          "output_type": "stream",
          "name": "stdout",
          "text": [
            "Is 18 years old: False\n",
            "Is not 21 years old: True\n",
            "Older than 15: True\n",
            "Younger than 20: True\n",
            "18 or older: False\n",
            "18 or younger: True\n"
          ]
        }
      ],
      "execution_count": 8
    },
    {
      "cell_type": "markdown",
      "id": "SZxGsWOfgDrg",
      "metadata": {
        "id": "SZxGsWOfgDrg"
      },
      "source": [
        "## Control Structures"
      ]
    },
    {
      "cell_type": "markdown",
      "id": "ba4be599",
      "metadata": {
        "id": "ba4be599"
      },
      "source": [
        "Control structures in Python, such as `if` statements, `for` loops, and `while` loops, are fundamental to programming in Python, enabling the execution of code based on conditions, the iteration over sequences, and the performance of actions multiple times under certain conditions."
      ]
    },
    {
      "cell_type": "markdown",
      "id": "Se_cyL7tRrSs",
      "metadata": {
        "id": "Se_cyL7tRrSs"
      },
      "source": [
        "**Example Using Only If**<br>\n",
        "This is the simplest form of control structure that evaluates a condition. If the condition is `True`, the indented block of code will execute. This structure is used when you want to perform an action only if a certain condition is met, and no action is required for the 'false' case."
      ]
    },
    {
      "cell_type": "code",
      "id": "3c5beff2",
      "metadata": {
        "colab": {
          "base_uri": "https://localhost:8080/"
        },
        "id": "3c5beff2",
        "outputId": "87d1f7f6-ce7c-4080-934d-86ef1fa7b350",
        "ExecuteTime": {
          "end_time": "2025-03-13T18:59:15.779206Z",
          "start_time": "2025-03-13T18:59:15.776482Z"
        }
      },
      "source": [
        "hour = 9\n",
        "\n",
        "if hour < 12:\n",
        "    print(\"Good morning!\")"
      ],
      "outputs": [
        {
          "output_type": "stream",
          "name": "stdout",
          "text": [
            "Good morning!\n"
          ]
        }
      ],
      "execution_count": 9
    },
    {
      "cell_type": "markdown",
      "id": "By3Xd_m8RtQM",
      "metadata": {
        "id": "By3Xd_m8RtQM"
      },
      "source": [
        "**Example Using If and Else** <br>\n",
        "The `if-else` structure allows for two paths of execution: one path `if` the condition is `True`, and another path (the `else` block) if the condition is `False`. This is useful when you have a clear alternative action to take if the condition does not hold."
      ]
    },
    {
      "cell_type": "code",
      "id": "U8Wc9GNoRttw",
      "metadata": {
        "colab": {
          "base_uri": "https://localhost:8080/"
        },
        "id": "U8Wc9GNoRttw",
        "outputId": "f2534711-fccf-412d-e11e-ddb7fc46694f",
        "ExecuteTime": {
          "end_time": "2025-03-13T18:59:15.816915Z",
          "start_time": "2025-03-13T18:59:15.809821Z"
        }
      },
      "source": [
        "hour = 15\n",
        "\n",
        "if hour < 12:\n",
        "    print(\"Good morning!\")\n",
        "else:\n",
        "    print(\"Good day!\")\n"
      ],
      "outputs": [
        {
          "output_type": "stream",
          "name": "stdout",
          "text": [
            "Good day!\n"
          ]
        }
      ],
      "execution_count": 10
    },
    {
      "cell_type": "markdown",
      "id": "YGExRt-9Rt-u",
      "metadata": {
        "id": "YGExRt-9Rt-u"
      },
      "source": [
        "**Example Using If, Elif, and Else**<br>\n",
        "Python's `if-elif-else` structure can include multiple `elif` blocks, allowing for several different conditions to be checked in sequence. Each `elif` condition is evaluated only if all previous conditions were `False`. If one `elif` condition evaluates to `True`, the corresponding block of code executes, and the rest of the `elif` blocks, along with the `else` block, are skipped."
      ]
    },
    {
      "cell_type": "code",
      "id": "B71gHbbsRuW8",
      "metadata": {
        "colab": {
          "base_uri": "https://localhost:8080/"
        },
        "id": "B71gHbbsRuW8",
        "outputId": "0e756802-93a9-4dfe-a9ee-89c6410884e2",
        "ExecuteTime": {
          "end_time": "2025-03-13T18:59:15.873405Z",
          "start_time": "2025-03-13T18:59:15.870479Z"
        }
      },
      "source": [
        "# Enhanced use case: Greeting someone with greetings that cover the entire day into late night.\n",
        "hour = 18\n",
        "\n",
        "if hour < 6:\n",
        "    print(\"Why are you up so early? Go back to sleep!\")\n",
        "elif hour < 12:\n",
        "    print(\"Good morning!\")\n",
        "elif hour < 17:\n",
        "    print(\"Good afternoon!\")\n",
        "elif hour < 21:\n",
        "    print(\"Good evening!\")\n",
        "else:\n",
        "    print(\"Good night!\")\n",
        "\n"
      ],
      "outputs": [
        {
          "output_type": "stream",
          "name": "stdout",
          "text": [
            "Good evening!\n"
          ]
        }
      ],
      "execution_count": 11
    },
    {
      "cell_type": "markdown",
      "id": "ql_G0QsyR48c",
      "metadata": {
        "id": "ql_G0QsyR48c"
      },
      "source": [
        "**For Loop**<br>\n",
        "A `for` loop is used for iterating over a sequence (such as a list, tuple, dictionary, set, or string). This is less like a traditional \"loop\" and more like going through each item in a collection. For loops are useful when you want to perform an action for each item in a sequence."
      ]
    },
    {
      "cell_type": "code",
      "id": "M67llPbQkHXT",
      "metadata": {
        "colab": {
          "base_uri": "https://localhost:8080/"
        },
        "id": "M67llPbQkHXT",
        "outputId": "6156d3b7-75c0-41ea-8b71-f33150a714b4",
        "ExecuteTime": {
          "end_time": "2025-03-13T18:59:16.019848Z",
          "start_time": "2025-03-13T18:59:16.012310Z"
        }
      },
      "source": [
        "names = [\"Alice\", \"Bob\", \"Charlie\"]\n",
        "for name in names:\n",
        "    print(f\"Hello, {name}!\")"
      ],
      "outputs": [
        {
          "output_type": "stream",
          "name": "stdout",
          "text": [
            "Hello, Alice!\n",
            "Hello, Bob!\n",
            "Hello, Charlie!\n"
          ]
        }
      ],
      "execution_count": 12
    },
    {
      "cell_type": "markdown",
      "id": "wzYriAIzSFDD",
      "metadata": {
        "id": "wzYriAIzSFDD"
      },
      "source": [
        "**While Loop**<br>\n",
        "The `while` loop in Python is used to execute a block of statements repeatedly as long as a given condition is `True`. This is used when you don't know in advance how many times you need to execute a block of code, as the condition is evaluated before each iteration, making it suitable for situations where the number of iterations is not known before the loop starts."
      ]
    },
    {
      "cell_type": "code",
      "id": "SJrbi5kNkKkx",
      "metadata": {
        "colab": {
          "base_uri": "https://localhost:8080/"
        },
        "id": "SJrbi5kNkKkx",
        "outputId": "b1f71e0c-384d-4421-96d6-d3cc8f87d2ad",
        "ExecuteTime": {
          "end_time": "2025-03-13T18:59:16.047337Z",
          "start_time": "2025-03-13T18:59:16.045169Z"
        }
      },
      "source": [
        "arrival_countdown = 3\n",
        "while arrival_countdown > 0:\n",
        "    print(f\"Person arrives in {arrival_countdown}...\")\n",
        "    arrival_countdown -= 1\n",
        "print(\"Person has arrived!\")\n"
      ],
      "outputs": [
        {
          "output_type": "stream",
          "name": "stdout",
          "text": [
            "Person arrives in 3...\n",
            "Person arrives in 2...\n",
            "Person arrives in 1...\n",
            "Person has arrived!\n"
          ]
        }
      ],
      "execution_count": 13
    },
    {
      "cell_type": "markdown",
      "id": "4ef93557",
      "metadata": {
        "id": "4ef93557"
      },
      "source": [
        "## Type Hinting"
      ]
    },
    {
      "cell_type": "markdown",
      "id": "6dc0b8a0",
      "metadata": {
        "id": "6dc0b8a0"
      },
      "source": [
        "Type Hinting in Python is a formal solution to statically indicate the types of variables, introduced in Python 3.5 through PEP 484. It doesn't affect the runtime behavior of the program but helps tools like IDEs and linters understand the types of variables, making code easier to read and debug."
      ]
    },
    {
      "cell_type": "markdown",
      "id": "jQoeJSG_YbvW",
      "metadata": {
        "id": "jQoeJSG_YbvW"
      },
      "source": [
        "**Basic Type Hints**\n",
        "Type Hinting in Python serves as a guide for developers, indicating the intended types of variables. It's crucial to understand that Type Hinting does not influence the runtime behavior of your program. Python is a dynamically typed language, meaning that the type of a variable is determined at runtime and can change. Type Hinting, however, suggests to developers, reviewers, and tools what type a variable should be."
      ]
    },
    {
      "cell_type": "code",
      "id": "N7tWZaw6YbL5",
      "metadata": {
        "colab": {
          "base_uri": "https://localhost:8080/"
        },
        "id": "N7tWZaw6YbL5",
        "outputId": "e9c648aa-43ea-4a4f-956e-a2a053c8af96",
        "ExecuteTime": {
          "end_time": "2025-03-13T18:59:16.071942Z",
          "start_time": "2025-03-13T18:59:16.069839Z"
        }
      },
      "source": [
        "# For an integer\n",
        "age: int = 25\n",
        "\n",
        "# For a floating-point number\n",
        "height: float = 5.9\n",
        "\n",
        "# For a string\n",
        "name: str = \"Alice\"\n",
        "\n",
        "# For a boolean\n",
        "is_student: bool = True\n",
        "\n",
        "print(age, height, name, is_student)"
      ],
      "outputs": [
        {
          "output_type": "stream",
          "name": "stdout",
          "text": [
            "25 5.9 Alice True\n"
          ]
        }
      ],
      "execution_count": 14
    },
    {
      "cell_type": "markdown",
      "id": "6GzUUr0gZ8ic",
      "metadata": {
        "id": "6GzUUr0gZ8ic"
      },
      "source": [
        "Just like the example with explicit Type Hinting, the snippet provided demonstrates variable assignments without the use of Type Hints which work in the absolute same way."
      ]
    },
    {
      "cell_type": "code",
      "id": "pCcpMbfbZmFX",
      "metadata": {
        "colab": {
          "base_uri": "https://localhost:8080/"
        },
        "id": "pCcpMbfbZmFX",
        "outputId": "e3a02299-4a20-4f8c-ee1e-02e07ddc4983",
        "ExecuteTime": {
          "end_time": "2025-03-13T18:59:16.090377Z",
          "start_time": "2025-03-13T18:59:16.088443Z"
        }
      },
      "source": [
        "age = 25\n",
        "\n",
        "height = 5.9\n",
        "\n",
        "name = \"Alice\"\n",
        "\n",
        "is_student = True\n",
        "\n",
        "print(age, height, name, is_student)"
      ],
      "outputs": [
        {
          "output_type": "stream",
          "name": "stdout",
          "text": [
            "25 5.9 Alice True\n"
          ]
        }
      ],
      "execution_count": 15
    },
    {
      "cell_type": "markdown",
      "id": "De9-JGZBYtjF",
      "metadata": {
        "id": "De9-JGZBYtjF"
      },
      "source": [
        "**Type Hints in Lists, Tuples, Sets, and Dictionaries**\n",
        "Type Hinting extends to more complex data structures, such as `lists`, `tuples`, `sets`, and `dictionaries`. The typing module provides a range of generic types that help in specifying the types of container elements."
      ]
    },
    {
      "cell_type": "code",
      "id": "ZxzVNZGmYtU7",
      "metadata": {
        "id": "ZxzVNZGmYtU7",
        "ExecuteTime": {
          "end_time": "2025-03-13T18:59:16.106265Z",
          "start_time": "2025-03-13T18:59:16.104270Z"
        }
      },
      "source": [
        "from typing import List, Tuple, Set, Dict\n",
        "\n",
        "# A list of integers\n",
        "numbers: List[int] = [1, 2, 3, 4, 5]\n",
        "\n",
        "# A tuple containing an integer and a string\n",
        "person: Tuple[int, str] = (1, \"Alice\")\n",
        "\n",
        "# A set of unique strings\n",
        "fruits: Set[str] = {\"apple\", \"banana\", \"cherry\"}\n",
        "\n",
        "# A dictionary with string keys and integer values\n",
        "ages: Dict[str, int] = {\"Alice\": 30, \"Bob\": 25}\n"
      ],
      "outputs": [],
      "execution_count": 16
    },
    {
      "cell_type": "markdown",
      "id": "t06WNIuCZIEw",
      "metadata": {
        "id": "t06WNIuCZIEw"
      },
      "source": [
        "**Understanding None**<br>\n",
        "Type Hinting is also valuable for variables that might not be assigned a value immediately. Specifying a variable can be None clarifies its optional nature:\n"
      ]
    },
    {
      "cell_type": "code",
      "id": "PAjYyOAhZOsr",
      "metadata": {
        "id": "PAjYyOAhZOsr",
        "ExecuteTime": {
          "end_time": "2025-03-13T18:59:16.114681Z",
          "start_time": "2025-03-13T18:59:16.113140Z"
        }
      },
      "source": [
        "from typing import Optional\n",
        "\n",
        "address: Optional[str] = None"
      ],
      "outputs": [],
      "execution_count": 17
    },
    {
      "cell_type": "markdown",
      "id": "J1dAgBbw00w0",
      "metadata": {
        "id": "J1dAgBbw00w0"
      },
      "source": [
        "## Functions in Python\n"
      ]
    },
    {
      "cell_type": "markdown",
      "id": "G5B3nS7C04_0",
      "metadata": {
        "id": "G5B3nS7C04_0"
      },
      "source": [
        "In Python, a function is a block of organized, reusable code that performs a single, related action. Functions provide better modularity for your application and a high degree of code reusing. Python provides built-in functions like `print()`, but you can also create your own functions. In all examples Type Hinting is used."
      ]
    },
    {
      "cell_type": "markdown",
      "id": "tiRraQAPMNfU",
      "metadata": {
        "id": "tiRraQAPMNfU"
      },
      "source": [
        "**Function Without Parameters and Return Value** <br>\n",
        "The simplest form of a function may neither take parameters nor return a value. It performs an action but does not communicate back to the caller."
      ]
    },
    {
      "cell_type": "code",
      "id": "l1XnwuEcMG37",
      "metadata": {
        "colab": {
          "base_uri": "https://localhost:8080/"
        },
        "id": "l1XnwuEcMG37",
        "outputId": "e41036b4-cada-4158-a33a-8e45049e4a5f",
        "ExecuteTime": {
          "end_time": "2025-03-13T18:59:16.121690Z",
          "start_time": "2025-03-13T18:59:16.119638Z"
        }
      },
      "source": [
        "def say_hello_world():\n",
        "    \"\"\"Prints 'Hello, World!'\"\"\"\n",
        "    print(\"Hello, World!\")\n",
        "\n",
        "say_hello_world()\n"
      ],
      "outputs": [
        {
          "output_type": "stream",
          "name": "stdout",
          "text": [
            "Hello, World!\n"
          ]
        }
      ],
      "execution_count": 18
    },
    {
      "cell_type": "markdown",
      "id": "aLRwdGxVMOte",
      "metadata": {
        "id": "aLRwdGxVMOte"
      },
      "source": [
        "**Function Without Parameters But With a Return Value**<br>\n",
        "A function can also be defined without parameters but can return a value. This allows the function to provide a result back to the caller."
      ]
    },
    {
      "cell_type": "code",
      "id": "0zfE_7tFMIoJ",
      "metadata": {
        "colab": {
          "base_uri": "https://localhost:8080/"
        },
        "id": "0zfE_7tFMIoJ",
        "outputId": "a49ea6c3-94e7-4507-eaaa-3ef0daba79e3",
        "ExecuteTime": {
          "end_time": "2025-03-13T18:59:16.143423Z",
          "start_time": "2025-03-13T18:59:16.141615Z"
        }
      },
      "source": [
        "def get_greeting_message():\n",
        "    \"\"\"Returns a greeting message.\"\"\"\n",
        "    return \"Good morning, everyone!\"\n",
        "\n",
        "message = get_greeting_message()\n",
        "print(message)\n"
      ],
      "outputs": [
        {
          "output_type": "stream",
          "name": "stdout",
          "text": [
            "Good morning, everyone!\n"
          ]
        }
      ],
      "execution_count": 19
    },
    {
      "cell_type": "markdown",
      "id": "Zk36no7YMWxE",
      "metadata": {
        "id": "Zk36no7YMWxE"
      },
      "source": [
        "**Understanding None in Functions**<br>\n",
        "In Python, if a function doesn't have a `return` statement or if the `return` statement doesn't specify a value, the function will return `None`."
      ]
    },
    {
      "cell_type": "code",
      "id": "cdi7OVxIMVmN",
      "metadata": {
        "colab": {
          "base_uri": "https://localhost:8080/"
        },
        "id": "cdi7OVxIMVmN",
        "outputId": "3214c13a-fb7e-4de0-b9cb-0af92005fa4d",
        "ExecuteTime": {
          "end_time": "2025-03-13T18:59:16.164141Z",
          "start_time": "2025-03-13T18:59:16.162337Z"
        }
      },
      "source": [
        "def function_with_no_return():\n",
        "    \"\"\"A demonstration function with no return statement.\"\"\"\n",
        "    print(\"This function has no return statement.\")\n",
        "\n",
        "result = function_with_no_return()\n",
        "print(result)  # This will print 'None'"
      ],
      "outputs": [
        {
          "output_type": "stream",
          "name": "stdout",
          "text": [
            "This function has no return statement.\n",
            "None\n"
          ]
        }
      ],
      "execution_count": 20
    },
    {
      "cell_type": "markdown",
      "id": "2bejk5H5KcSe",
      "metadata": {
        "id": "2bejk5H5KcSe"
      },
      "source": [
        "**Example of a Simple Function**<br>\n",
        "Now that we understand functions without parameters and those that return a value, let's consider a function that takes an argument and returns a result."
      ]
    },
    {
      "cell_type": "code",
      "id": "py3StqtX04V_",
      "metadata": {
        "colab": {
          "base_uri": "https://localhost:8080/"
        },
        "id": "py3StqtX04V_",
        "outputId": "d7a9f780-62fc-4e30-bc67-8321b835ef94",
        "ExecuteTime": {
          "end_time": "2025-03-13T18:59:16.185277Z",
          "start_time": "2025-03-13T18:59:16.183254Z"
        }
      },
      "source": [
        "def greet(name: str) -> str:\n",
        "    \"\"\"Return a greeting.\"\"\"\n",
        "    return f\"Hello, {name}!\"\n",
        "\n",
        "print(greet(\"Alice\"))"
      ],
      "outputs": [
        {
          "output_type": "stream",
          "name": "stdout",
          "text": [
            "Hello, Alice!\n"
          ]
        }
      ],
      "execution_count": 21
    },
    {
      "cell_type": "markdown",
      "id": "PxUtKh8bKiyJ",
      "metadata": {
        "id": "PxUtKh8bKiyJ"
      },
      "source": [
        "**Functions with Multiple Parameters**<br>\n",
        "Functions can take multiple arguments. Consider extending our example to greet a person with their name and age."
      ]
    },
    {
      "cell_type": "code",
      "id": "Jx9v5UFIKnC4",
      "metadata": {
        "colab": {
          "base_uri": "https://localhost:8080/"
        },
        "id": "Jx9v5UFIKnC4",
        "outputId": "1a892eea-482d-4060-cfec-f86dc7b19258",
        "ExecuteTime": {
          "end_time": "2025-03-13T18:59:16.204164Z",
          "start_time": "2025-03-13T18:59:16.201782Z"
        }
      },
      "source": [
        "def personalized_greet(name: str, age: int) -> str:\n",
        "    \"\"\"Return a personalized greeting message.\"\"\"\n",
        "    return f\"Hello, {name}! You are {age} years old.\"\n",
        "\n",
        "print(personalized_greet(\"Bob\", 30))"
      ],
      "outputs": [
        {
          "output_type": "stream",
          "name": "stdout",
          "text": [
            "Hello, Bob! You are 30 years old.\n"
          ]
        }
      ],
      "execution_count": 22
    },
    {
      "cell_type": "markdown",
      "id": "qlMF4QrqKpAc",
      "metadata": {
        "id": "qlMF4QrqKpAc"
      },
      "source": [
        "**Default Argument Values**<br>\n",
        "You can specify default values for parameters. These defaults are used if no value is provided during the function call."
      ]
    },
    {
      "cell_type": "code",
      "id": "8GBpHHNnKsZg",
      "metadata": {
        "colab": {
          "base_uri": "https://localhost:8080/"
        },
        "id": "8GBpHHNnKsZg",
        "outputId": "5b1780b0-2c4a-4c96-bc30-6a16ae14cae8",
        "ExecuteTime": {
          "end_time": "2025-03-13T18:59:16.218084Z",
          "start_time": "2025-03-13T18:59:16.216451Z"
        }
      },
      "source": [
        "def casual_greet(name: str, mood: str = \"happy\") -> str:\n",
        "    \"\"\"Return a casual greeting based on the mood.\"\"\"\n",
        "    return f\"Hello, {name}! You seem {mood} today.\"\n",
        "\n",
        "print(casual_greet(\"Charlie\"))\n",
        "print(casual_greet(\"Charlie\", \"excited\"))"
      ],
      "outputs": [
        {
          "output_type": "stream",
          "name": "stdout",
          "text": [
            "Hello, Charlie! You seem happy today.\n",
            "Hello, Charlie! You seem excited today.\n"
          ]
        }
      ],
      "execution_count": 23
    },
    {
      "cell_type": "markdown",
      "id": "v2g9mZ8aKOQO",
      "metadata": {
        "id": "v2g9mZ8aKOQO"
      },
      "source": [
        "**Lambda Functions in Python**<br>In Python, a `lambda` function is a small anonymous function, defined using the `lambda` keyword. Unlike a regular function declared with the `def` keyword, a lambda function can have any number of arguments but can only have one expression. The expression is evaluated and returned. Lambda functions are particularly useful for situations requiring a simple function for a short period of time, often used with functions like `filter()`, `map()`, and `sorted()`."
      ]
    },
    {
      "cell_type": "code",
      "id": "LDj6GeV0KayN",
      "metadata": {
        "colab": {
          "base_uri": "https://localhost:8080/"
        },
        "id": "LDj6GeV0KayN",
        "outputId": "0ffbfd7a-1fc3-4084-b341-162f5d0328b7",
        "ExecuteTime": {
          "end_time": "2025-03-13T18:59:16.233235Z",
          "start_time": "2025-03-13T18:59:16.231334Z"
        }
      },
      "source": [
        "# A simple lambda function that adds 10 to the input argument\n",
        "add_ten = lambda x: x + 10\n",
        "print(add_ten(5))  # Output: 15"
      ],
      "outputs": [
        {
          "output_type": "stream",
          "name": "stdout",
          "text": [
            "15\n"
          ]
        }
      ],
      "execution_count": 24
    },
    {
      "cell_type": "markdown",
      "id": "eAoUuE0JKhUy",
      "metadata": {
        "id": "eAoUuE0JKhUy"
      },
      "source": [
        "**Example with `map()`**<br>\n",
        "The `map()` function applies a specified function to each item of an iterable (such as list or tuple) and returns an iterator. It's commonly used for transforming data."
      ]
    },
    {
      "cell_type": "code",
      "id": "QdcgL146KxGp",
      "metadata": {
        "colab": {
          "base_uri": "https://localhost:8080/"
        },
        "id": "QdcgL146KxGp",
        "outputId": "ba7a40bf-2fa0-433b-a4ee-2b56155cfff0",
        "ExecuteTime": {
          "end_time": "2025-03-13T18:59:16.262584Z",
          "start_time": "2025-03-13T18:59:16.260649Z"
        }
      },
      "source": [
        "# Using lambda with map to square each number in a list\n",
        "numbers = [1, 2, 3, 4, 5]\n",
        "squared_numbers = list(map(lambda x: x**2, numbers))\n",
        "print(squared_numbers)  # Output: [1, 4, 9, 16, 25]\n"
      ],
      "outputs": [
        {
          "output_type": "stream",
          "name": "stdout",
          "text": [
            "[1, 4, 9, 16, 25]\n"
          ]
        }
      ],
      "execution_count": 25
    },
    {
      "cell_type": "markdown",
      "id": "Y2gh7iFgM29p",
      "metadata": {
        "id": "Y2gh7iFgM29p"
      },
      "source": [
        "The simplified code looks like this:"
      ]
    },
    {
      "cell_type": "code",
      "id": "L2LARhX_M2ic",
      "metadata": {
        "colab": {
          "base_uri": "https://localhost:8080/"
        },
        "id": "L2LARhX_M2ic",
        "outputId": "23a3b893-2372-43fb-81b1-70402578c47a",
        "ExecuteTime": {
          "end_time": "2025-03-13T18:59:16.285067Z",
          "start_time": "2025-03-13T18:59:16.283320Z"
        }
      },
      "source": [
        "def square(number):\n",
        "    return number ** 2\n",
        "\n",
        "numbers = [1, 2, 3, 4, 5]\n",
        "squared = map(square, numbers)\n",
        "\n",
        "print(list(squared))"
      ],
      "outputs": [
        {
          "output_type": "stream",
          "name": "stdout",
          "text": [
            "[1, 4, 9, 16, 25]\n"
          ]
        }
      ],
      "execution_count": 26
    },
    {
      "cell_type": "markdown",
      "id": "SjngKBu9L5p1",
      "metadata": {
        "id": "SjngKBu9L5p1"
      },
      "source": [
        "**Example with `filter()`** <br>\n",
        "The `filter()` function applies a specified function to each item of an iterable and returns an iterator for the items for which the function returns `True`. It's often used for extracting a subset of elements from a collection."
      ]
    },
    {
      "cell_type": "code",
      "id": "uz-LKleTMDwy",
      "metadata": {
        "colab": {
          "base_uri": "https://localhost:8080/"
        },
        "id": "uz-LKleTMDwy",
        "outputId": "58f3a623-d210-4292-ce7a-6e59b3fb7836",
        "ExecuteTime": {
          "end_time": "2025-03-13T18:59:16.303837Z",
          "start_time": "2025-03-13T18:59:16.301739Z"
        }
      },
      "source": [
        "# Using lambda with filter to get even numbers from a list\n",
        "numbers = [1, 2, 3, 4, 5]\n",
        "even_numbers = list(filter(lambda x: x % 2 == 0, numbers))\n",
        "print(even_numbers)  # Output: [2, 4]"
      ],
      "outputs": [
        {
          "output_type": "stream",
          "name": "stdout",
          "text": [
            "[2, 4]\n"
          ]
        }
      ],
      "execution_count": 27
    },
    {
      "cell_type": "markdown",
      "id": "X7ylMx8wNBw_",
      "metadata": {
        "id": "X7ylMx8wNBw_"
      },
      "source": [
        "The simplified code looks like this:"
      ]
    },
    {
      "cell_type": "code",
      "id": "xK_4JUKUND3W",
      "metadata": {
        "colab": {
          "base_uri": "https://localhost:8080/"
        },
        "id": "xK_4JUKUND3W",
        "outputId": "2a3735ce-60e6-4c1a-e25d-aa6e97464212",
        "ExecuteTime": {
          "end_time": "2025-03-13T18:59:16.327314Z",
          "start_time": "2025-03-13T18:59:16.325377Z"
        }
      },
      "source": [
        "def is_even(number):\n",
        "    return number % 2 == 0\n",
        "\n",
        "numbers = [1, 2, 3, 4, 5]\n",
        "even_numbers = filter(is_even, numbers)\n",
        "\n",
        "print(list(even_numbers))\n"
      ],
      "outputs": [
        {
          "output_type": "stream",
          "name": "stdout",
          "text": [
            "[2, 4]\n"
          ]
        }
      ],
      "execution_count": 28
    },
    {
      "cell_type": "markdown",
      "id": "Ywxw8vhvMToR",
      "metadata": {
        "id": "Ywxw8vhvMToR"
      },
      "source": [
        "**Example with `sorted()`** <br>\n",
        "The `sorted()` function returns a sorted list from the items in an iterable. You can specify a `key` function (in this case the lambda function) to customize the sort order, which is where lambda functions are particularly handy."
      ]
    },
    {
      "cell_type": "code",
      "id": "FerIKeIJMowP",
      "metadata": {
        "colab": {
          "base_uri": "https://localhost:8080/"
        },
        "id": "FerIKeIJMowP",
        "outputId": "0facf3bd-5929-4f0d-8c77-463fdcd1ed9a",
        "ExecuteTime": {
          "end_time": "2025-03-13T18:59:16.345248Z",
          "start_time": "2025-03-13T18:59:16.343295Z"
        }
      },
      "source": [
        "# Using lambda with sorted to sort a list of tuples by the second item\n",
        "# Since second items are strings it is sorted alphabetically\n",
        "numbers_pairs = [(5, 'five'), (3, 'three'), (4, 'four'), (1, 'one'), (2, 'two')]\n",
        "sorted_pairs = sorted(numbers_pairs, key=lambda pair: pair[1])\n",
        "print(sorted_pairs)  # Output: [(4, 'four'), (1, 'one'), (3, 'three'), (2, 'two')]\n"
      ],
      "outputs": [
        {
          "output_type": "stream",
          "name": "stdout",
          "text": [
            "[(5, 'five'), (4, 'four'), (1, 'one'), (3, 'three'), (2, 'two')]\n"
          ]
        }
      ],
      "execution_count": 29
    },
    {
      "cell_type": "markdown",
      "id": "ew92WwS-NF7X",
      "metadata": {
        "id": "ew92WwS-NF7X"
      },
      "source": [
        "To sorted them on the first item in the dictonary the lambda function would look like this:"
      ]
    },
    {
      "cell_type": "code",
      "id": "RsoHdZnMNMGV",
      "metadata": {
        "colab": {
          "base_uri": "https://localhost:8080/"
        },
        "id": "RsoHdZnMNMGV",
        "outputId": "1165cdb3-a8e9-4eaf-a6f3-15cb1d3f4a3c",
        "ExecuteTime": {
          "end_time": "2025-03-13T18:59:16.361616Z",
          "start_time": "2025-03-13T18:59:16.359418Z"
        }
      },
      "source": [
        "# Adapted example to sort a list of tuples by the first item, similarly using lambda\n",
        "numbers_pairs = [(5, 'five'), (3, 'three'), (4, 'four'), (1, 'one'), (2, 'two')]\n",
        "sorted_numbers_pairs = sorted(numbers_pairs, key=lambda pair: pair[0])\n",
        "print(sorted_numbers_pairs)  # Output: [(1, 'one'), (2, 'two'), (3, 'three'), (4, 'four'), (5, 'five')]"
      ],
      "outputs": [
        {
          "output_type": "stream",
          "name": "stdout",
          "text": [
            "[(1, 'one'), (2, 'two'), (3, 'three'), (4, 'four'), (5, 'five')]\n"
          ]
        }
      ],
      "execution_count": 30
    },
    {
      "cell_type": "markdown",
      "id": "8nendAcL1R_e",
      "metadata": {
        "id": "8nendAcL1R_e"
      },
      "source": [
        "## Classes and Objects"
      ]
    },
    {
      "cell_type": "markdown",
      "id": "dgV13Z-1Fh68",
      "metadata": {
        "id": "dgV13Z-1Fh68"
      },
      "source": [
        "In Python, classes provide a means of bundling data and functionality together. Creating a new class creates a new type of object, allowing new instances of that type to be made. Each class instance can have attributes attached to it for maintaining its state. Class instances can also have methods (defined by its class) for modifying its state."
      ]
    },
    {
      "cell_type": "code",
      "id": "4YF2fKtmFhsh",
      "metadata": {
        "id": "4YF2fKtmFhsh",
        "ExecuteTime": {
          "end_time": "2025-03-13T18:59:16.375053Z",
          "start_time": "2025-03-13T18:59:16.373283Z"
        }
      },
      "source": [
        "class Person:\n",
        "    def __init__(self, name: str, age: int):\n",
        "        self.name = name\n",
        "        self.age = age\n",
        "\n",
        "    def greet(self) -> str:\n",
        "        return f\"Hello, my name is {self.name} and I am {self.age} years old.\""
      ],
      "outputs": [],
      "execution_count": 31
    },
    {
      "cell_type": "markdown",
      "id": "t5WLxv-FFtID",
      "metadata": {
        "id": "t5WLxv-FFtID"
      },
      "source": [
        "**Class Definition:** <br> The Person class is defined, which is a blueprint for creating objects (instances) of this class.\n",
        "\n",
        "**The `__init__` Method:** <br>This special method is called the constructor and is automatically invoked when a new instance of the class is created. It initializes the object’s state (attributes). In the Person class, each person has a name and an age, which are passed as arguments when the class instance is created.\n",
        "\n",
        "**Instance Variables:** <br>`self.name` and `self.age` are instance variables. The `self` parameter refers to the instance of the class itself and is used to access variables that belong to the class. The `self` parameter can be choosen, but in most cases `self` is used.\n",
        "\n",
        "**Instance Method:** <br>The `greet` method is an instance method which allows an object to perform operations (actions). In this case, it returns a greeting string that includes the person's name and age."
      ]
    },
    {
      "cell_type": "code",
      "id": "227AX4iwHLMx",
      "metadata": {
        "id": "227AX4iwHLMx",
        "ExecuteTime": {
          "end_time": "2025-03-13T18:59:16.385412Z",
          "start_time": "2025-03-13T18:59:16.383837Z"
        }
      },
      "source": [
        "john_doe = Person(\"John Doe\", 30)"
      ],
      "outputs": [],
      "execution_count": 32
    },
    {
      "cell_type": "code",
      "id": "hZGK5yZsHEdI",
      "metadata": {
        "colab": {
          "base_uri": "https://localhost:8080/",
          "height": 35
        },
        "id": "hZGK5yZsHEdI",
        "outputId": "2b92904b-3ffd-401d-cafa-f30a5b83294c",
        "ExecuteTime": {
          "end_time": "2025-03-13T18:59:16.396004Z",
          "start_time": "2025-03-13T18:59:16.394071Z"
        }
      },
      "source": [
        "john_doe.greet()"
      ],
      "outputs": [
        {
          "output_type": "execute_result",
          "data": {
            "text/plain": [
              "'Hello, my name is John Doe and I am 30 years old.'"
            ],
            "application/vnd.google.colaboratory.intrinsic+json": {
              "type": "string"
            }
          },
          "metadata": {},
          "execution_count": 33
        }
      ],
      "execution_count": 33
    },
    {
      "cell_type": "markdown",
      "id": "WKxsJq_DHmaq",
      "metadata": {
        "id": "WKxsJq_DHmaq"
      },
      "source": [
        "### Class Inheritance in Python\n"
      ]
    },
    {
      "cell_type": "markdown",
      "id": "7OnMu3T4HyPp",
      "metadata": {
        "id": "7OnMu3T4HyPp"
      },
      "source": [
        "Class inheritance allows us to define a class that inherits all the methods and properties from another class. The class being inherited from is called the parent class, and the class that inherits is called the child class. This feature provides a way to create a new class for using details of an existing class without modifying it.\n",
        "\n",
        "Continuing with our `Person` example, let's define a `Student` class that inherits from the `Person` class and adds a grade attribute:"
      ]
    },
    {
      "cell_type": "code",
      "id": "z0f-B-d7HsvC",
      "metadata": {
        "id": "z0f-B-d7HsvC",
        "ExecuteTime": {
          "end_time": "2025-03-13T18:59:16.407354Z",
          "start_time": "2025-03-13T18:59:16.405174Z"
        }
      },
      "source": [
        "class Person:\n",
        "    def __init__(self, name: str, age: int):\n",
        "        self.name = name\n",
        "        self.age = age\n",
        "\n",
        "    def greet(self) -> str:\n",
        "        return f\"Hello, my name is {self.name} and I am {self.age} years old.\"\n",
        "\n",
        "# Student class inherits from Person\n",
        "class Student(Person):\n",
        "    def __init__(self, name: str, age: int, grade: str):\n",
        "        super().__init__(name, age)  # Call the superclass constructor to initialize name and age\n",
        "        self.grade = grade  # New attribute specific to Student\n",
        "\n",
        "    # Override the greet method\n",
        "    def greet(self) -> str:\n",
        "        return super().greet() + f\" I am in grade {self.grade}.\"\n"
      ],
      "outputs": [],
      "execution_count": 34
    },
    {
      "cell_type": "markdown",
      "id": "DYtKVMl2IEPy",
      "metadata": {
        "id": "DYtKVMl2IEPy"
      },
      "source": [
        "**The `Student` Class:** <br>This class inherits from the Person class. It means that the Student class can use the methods and properties of the Person class.\n",
        "\n",
        "**The `super()` Function:**<br> This function is used to call the constructor (`__init__`) of the parent class (`Person`) and allows us to access the parent class's methods. In this example, it's used to initialize the name and age attributes of the `Student` class using the Person class's constructor.\n",
        "\n",
        "**Override Method:**<br> The `Student` class overrides the greet method of the `Person` class to add additional behavior (in this case, mentioning the student's grade)."
      ]
    },
    {
      "cell_type": "markdown",
      "id": "l4JNvidEJY4P",
      "metadata": {
        "id": "l4JNvidEJY4P"
      },
      "source": [
        "**Creating an Instance of a Child Class:**"
      ]
    },
    {
      "cell_type": "code",
      "id": "2b2Y1p9qH94J",
      "metadata": {
        "id": "2b2Y1p9qH94J",
        "ExecuteTime": {
          "end_time": "2025-03-13T18:59:16.416515Z",
          "start_time": "2025-03-13T18:59:16.414910Z"
        }
      },
      "source": [
        "jane_doe_student = Student(\"Jane Doe\", 20, \"Sophomore\")"
      ],
      "outputs": [],
      "execution_count": 35
    },
    {
      "cell_type": "markdown",
      "id": "OoDrr_HhJa5V",
      "metadata": {
        "id": "OoDrr_HhJa5V"
      },
      "source": [
        "**Calling an Overridden Method:**"
      ]
    },
    {
      "cell_type": "code",
      "id": "d66PGfuJJf7X",
      "metadata": {
        "colab": {
          "base_uri": "https://localhost:8080/",
          "height": 35
        },
        "id": "d66PGfuJJf7X",
        "outputId": "a578047b-5b55-4462-ddd9-93575b192106",
        "ExecuteTime": {
          "end_time": "2025-03-13T18:59:16.426145Z",
          "start_time": "2025-03-13T18:59:16.424292Z"
        }
      },
      "source": [
        "jane_doe_student.greet()"
      ],
      "outputs": [
        {
          "output_type": "execute_result",
          "data": {
            "text/plain": [
              "'Hello, my name is Jane Doe and I am 20 years old. I am in grade Sophomore.'"
            ],
            "application/vnd.google.colaboratory.intrinsic+json": {
              "type": "string"
            }
          },
          "metadata": {},
          "execution_count": 36
        }
      ],
      "execution_count": 36
    },
    {
      "cell_type": "markdown",
      "id": "IOg24GsW2Xbv",
      "metadata": {
        "id": "IOg24GsW2Xbv"
      },
      "source": [
        "## Exception Handling"
      ]
    },
    {
      "cell_type": "markdown",
      "id": "bdl0zVTejfpB",
      "metadata": {
        "id": "bdl0zVTejfpB"
      },
      "source": [
        "In Python, exceptions are errors that are detected during execution. Python's exception handling mechanism is crucial for creating resilient programs. It consists of `try`, `except`, and `finally` blocks."
      ]
    },
    {
      "cell_type": "markdown",
      "id": "2hoCU9nfzb-C",
      "metadata": {
        "id": "2hoCU9nfzb-C"
      },
      "source": [
        "**Basic Exception Handling** <br>\n",
        "When attempting operations that might fail, such as division where a divisor might be zero, Python's `try` and `except` blocks can be used to catch and handle exceptions."
      ]
    },
    {
      "cell_type": "code",
      "id": "vEP6deOHzbUi",
      "metadata": {
        "colab": {
          "base_uri": "https://localhost:8080/"
        },
        "id": "vEP6deOHzbUi",
        "outputId": "adfb6df9-bdc5-4a80-c311-f6e8b5a7bb11",
        "ExecuteTime": {
          "end_time": "2025-03-13T18:59:16.444275Z",
          "start_time": "2025-03-13T18:59:16.442482Z"
        }
      },
      "source": [
        "try:\n",
        "    result = 5 / 0\n",
        "except ZeroDivisionError as e:\n",
        "    print(\"Custom Message: Error! Division by 0\")\n",
        "    print(\"Automatic Message: \" + str(e))"
      ],
      "outputs": [
        {
          "output_type": "stream",
          "name": "stdout",
          "text": [
            "Custom Message: Error! Division by 0\n",
            "Automatic Message: division by zero\n"
          ]
        }
      ],
      "execution_count": 37
    },
    {
      "cell_type": "code",
      "id": "fhCNCmrP2bBv",
      "metadata": {
        "colab": {
          "base_uri": "https://localhost:8080/"
        },
        "id": "fhCNCmrP2bBv",
        "outputId": "07b615ec-4726-48a5-b14c-2da256a3a014",
        "ExecuteTime": {
          "end_time": "2025-03-13T18:59:16.460892Z",
          "start_time": "2025-03-13T18:59:16.458853Z"
        }
      },
      "source": [
        "try:\n",
        "    name = \"\"\n",
        "    if name == \"\":\n",
        "        raise ValueError(\"Name cannot be empty.\")\n",
        "except ValueError as e:\n",
        "    print(\"Custom Message: The name cannot be empty.\")\n",
        "    print(\"Automatic Message: \" + str(e))\n",
        "finally:\n",
        "    print(\"Attempted to update the name.\")\n",
        "\n"
      ],
      "outputs": [
        {
          "output_type": "stream",
          "name": "stdout",
          "text": [
            "Custom Message: The name cannot be empty.\n",
            "Automatic Message: Name cannot be empty.\n",
            "Attempted to update the name.\n"
          ]
        }
      ],
      "execution_count": 38
    },
    {
      "cell_type": "markdown",
      "id": "y62FTY0S2c4m",
      "metadata": {
        "id": "y62FTY0S2c4m"
      },
      "source": [
        "## Working with files"
      ]
    },
    {
      "cell_type": "markdown",
      "id": "lS_SeVZdDZ7t",
      "metadata": {
        "id": "lS_SeVZdDZ7t"
      },
      "source": [
        "Handling files is a common requirement in many programming tasks, from reading data for processing to writing output to a file. Python simplifies file operations with the `with` statement, ensuring that files are properly opened and closed after their associated block of code is executed, even if an exception occurs.\n",
        "\n",
        "To read from a file, you use the `with` statement along with the `open` function. This method automatically takes care of closing the file once the block exits.\n",
        "\n",
        "**Reading from a File**"
      ]
    },
    {
      "cell_type": "code",
      "id": "zoinxmuW2mg_",
      "metadata": {
        "colab": {
          "base_uri": "https://localhost:8080/",
          "height": 180
        },
        "id": "zoinxmuW2mg_",
        "outputId": "14dea452-8bd5-4251-bf32-332315a42d99",
        "ExecuteTime": {
          "end_time": "2025-03-13T18:59:16.486524Z",
          "start_time": "2025-03-13T18:59:16.483472Z"
        }
      },
      "source": [
        "with open(\"purple_cow.txt\", \"r\") as file:\n",
        "    content = file.read()\n",
        "    print(content)\n"
      ],
      "outputs": [
        {
          "output_type": "error",
          "ename": "FileNotFoundError",
          "evalue": "[Errno 2] No such file or directory: 'data/purple_cow.txt'",
          "traceback": [
            "\u001b[0;31m---------------------------------------------------------------------------\u001b[0m",
            "\u001b[0;31mFileNotFoundError\u001b[0m                         Traceback (most recent call last)",
            "\u001b[0;32m<ipython-input-39-79e7d429551c>\u001b[0m in \u001b[0;36m<cell line: 0>\u001b[0;34m()\u001b[0m\n\u001b[0;32m----> 1\u001b[0;31m \u001b[0;32mwith\u001b[0m \u001b[0mopen\u001b[0m\u001b[0;34m(\u001b[0m\u001b[0;34m\"data/purple_cow.txt\"\u001b[0m\u001b[0;34m,\u001b[0m \u001b[0;34m\"r\"\u001b[0m\u001b[0;34m)\u001b[0m \u001b[0;32mas\u001b[0m \u001b[0mfile\u001b[0m\u001b[0;34m:\u001b[0m\u001b[0;34m\u001b[0m\u001b[0;34m\u001b[0m\u001b[0m\n\u001b[0m\u001b[1;32m      2\u001b[0m     \u001b[0mcontent\u001b[0m \u001b[0;34m=\u001b[0m \u001b[0mfile\u001b[0m\u001b[0;34m.\u001b[0m\u001b[0mread\u001b[0m\u001b[0;34m(\u001b[0m\u001b[0;34m)\u001b[0m\u001b[0;34m\u001b[0m\u001b[0;34m\u001b[0m\u001b[0m\n\u001b[1;32m      3\u001b[0m     \u001b[0mprint\u001b[0m\u001b[0;34m(\u001b[0m\u001b[0mcontent\u001b[0m\u001b[0;34m)\u001b[0m\u001b[0;34m\u001b[0m\u001b[0;34m\u001b[0m\u001b[0m\n",
            "\u001b[0;31mFileNotFoundError\u001b[0m: [Errno 2] No such file or directory: 'data/purple_cow.txt'"
          ]
        }
      ],
      "execution_count": 39
    },
    {
      "cell_type": "markdown",
      "id": "kdrScMwVEf7G",
      "metadata": {
        "id": "kdrScMwVEf7G"
      },
      "source": [
        "**Writing to a File** <br>\n",
        "Similarly, writing to a file uses the `with` statement to ensure the file is properly closed after writing.\n",
        "\n",
        "\n"
      ]
    },
    {
      "cell_type": "code",
      "id": "77OezeN2Etmw",
      "metadata": {
        "id": "77OezeN2Etmw",
        "ExecuteTime": {
          "end_time": "2025-03-13T18:59:16.519180Z",
          "start_time": "2025-03-13T18:59:16.515789Z"
        }
      },
      "source": [
        "# Writing to a file\n",
        "with open('output.txt', 'w') as file:\n",
        "    file.write(\"Hi there!\\n\")"
      ],
      "outputs": [],
      "execution_count": null
    },
    {
      "cell_type": "markdown",
      "id": "2pnMpm54FCUE",
      "metadata": {
        "id": "2pnMpm54FCUE"
      },
      "source": [
        "**Appending to a File** <br>\n",
        "To add content to the end of a file without overwriting its existing content, you use the append mode ('a').\n"
      ]
    },
    {
      "cell_type": "code",
      "id": "va7IyQP5FIAP",
      "metadata": {
        "id": "va7IyQP5FIAP",
        "ExecuteTime": {
          "end_time": "2025-03-13T18:59:16.550477Z",
          "start_time": "2025-03-13T18:59:16.548353Z"
        }
      },
      "source": [
        "# Appending to a file\n",
        "with open('output.txt', 'a') as file:\n",
        "    file.write(\"How are you?\")\n"
      ],
      "outputs": [],
      "execution_count": null
    },
    {
      "cell_type": "markdown",
      "id": "_fNo5GyU2ox5",
      "metadata": {
        "id": "_fNo5GyU2ox5"
      },
      "source": [
        "## Advanced Topics"
      ]
    },
    {
      "cell_type": "markdown",
      "id": "t_j9sr-YHGEd",
      "metadata": {
        "id": "t_j9sr-YHGEd"
      },
      "source": [
        "As you progress in your Python journey, you'll encounter concepts that allow for more elegant, efficient, and powerful code. This section explores three such advanced topics: List Comprehensions, Generators and Iterators, and Decorators."
      ]
    },
    {
      "cell_type": "markdown",
      "id": "MjLRHrolHIbK",
      "metadata": {
        "id": "MjLRHrolHIbK"
      },
      "source": [
        "**List Comprehensions** <br>\n",
        "List Comprehensions provide a concise way to create lists. Common applications are to make new lists where each element is the result of some operations applied to each member of another sequence or iterable, or to create a subsequence of those elements that satisfy a certain condition."
      ]
    },
    {
      "cell_type": "code",
      "id": "F1bRB30120hm",
      "metadata": {
        "id": "F1bRB30120hm",
        "ExecuteTime": {
          "end_time": "2025-03-13T18:59:16.565638Z",
          "start_time": "2025-03-13T18:59:16.563702Z"
        }
      },
      "source": [
        "# Without list comprehension\n",
        "squares = []\n",
        "for x in range(10):\n",
        "    squares.append(x**2)\n",
        "\n",
        "# With list comprehension\n",
        "squares = [x**2 for x in range(10)]\n",
        "print(squares)\n"
      ],
      "outputs": [],
      "execution_count": null
    },
    {
      "cell_type": "markdown",
      "id": "qK8Jfyp-HR1z",
      "metadata": {
        "id": "qK8Jfyp-HR1z"
      },
      "source": [
        "List comprehensions can also be used for more complex operations, including filtering:"
      ]
    },
    {
      "cell_type": "code",
      "id": "7lQI6gUfHRqx",
      "metadata": {
        "id": "7lQI6gUfHRqx",
        "ExecuteTime": {
          "end_time": "2025-03-13T18:59:16.583370Z",
          "start_time": "2025-03-13T18:59:16.577223Z"
        }
      },
      "source": [
        "# Filtering with list comprehension\n",
        "even_squares = [x**2 for x in range(10) if x % 2 == 0]\n",
        "print(even_squares)"
      ],
      "outputs": [],
      "execution_count": null
    },
    {
      "cell_type": "markdown",
      "id": "f7b_FbcoHPKh",
      "metadata": {
        "id": "f7b_FbcoHPKh"
      },
      "source": [
        "**Generators and Iterators** <br>\n",
        "Generators are a simple and powerful tool for creating iterators. They are written like regular functions but use the `yield` statement whenever they want to return data. Each time `next()` is called on it, the generator resumes where it left off (it remembers all the data values and which statement was last executed). In Python, the `range()` function is a common example of a built-in generator. It generates a sequence of numbers and is often used for looping a specific number of times in for loops. Unlike a `list`, it doesn't store all the numbers in memory at once; it generates them on-the-fly, which is memory efficient."
      ]
    },
    {
      "cell_type": "code",
      "id": "ljBckRZeIHfN",
      "metadata": {
        "id": "ljBckRZeIHfN",
        "ExecuteTime": {
          "end_time": "2025-03-13T18:59:16.597897Z",
          "start_time": "2025-03-13T18:59:16.595849Z"
        }
      },
      "source": [
        "# Using range() in a for loop\n",
        "for i in range(5):\n",
        "    print(i)\n"
      ],
      "outputs": [],
      "execution_count": null
    },
    {
      "cell_type": "code",
      "id": "SpoBlDiJHkX_",
      "metadata": {
        "id": "SpoBlDiJHkX_",
        "ExecuteTime": {
          "end_time": "2025-03-13T18:59:16.609689Z",
          "start_time": "2025-03-13T18:59:16.607662Z"
        }
      },
      "source": [
        "# Generator function\n",
        "def count_down(num):\n",
        "    while num > -1:\n",
        "        yield num\n",
        "        num -= 1\n",
        "\n",
        "# Using the generator\n",
        "for count in count_down(5):\n",
        "    print(count)\n"
      ],
      "outputs": [],
      "execution_count": null
    },
    {
      "cell_type": "markdown",
      "id": "0d27288d-0aaa-4be6-bb1b-276e1a1d8b71",
      "metadata": {
        "id": "0d27288d-0aaa-4be6-bb1b-276e1a1d8b71"
      },
      "source": [
        "The values of a generator can only be access by an iterator, the function itself returns just the generator object:"
      ]
    },
    {
      "cell_type": "code",
      "id": "96082fd6-5b84-4d25-af3b-f432b0edb05b",
      "metadata": {
        "ExecuteTime": {
          "end_time": "2025-03-13T18:59:16.619711Z",
          "start_time": "2025-03-13T18:59:16.617866Z"
        },
        "id": "96082fd6-5b84-4d25-af3b-f432b0edb05b"
      },
      "source": [
        "count_down(5)"
      ],
      "outputs": [],
      "execution_count": null
    },
    {
      "cell_type": "markdown",
      "id": "sq_4q0BXHmUf",
      "metadata": {
        "id": "sq_4q0BXHmUf"
      },
      "source": [
        "**Decorators**<br>\n",
        "Decorators are a very powerful and useful tool in Python, allowing you to modify the behavior of a function or class. Decorators allow you to wrap another function in order to extend the behavior of the wrapped function, without permanently modifying it."
      ]
    },
    {
      "cell_type": "code",
      "id": "N9JhwwToHlHZ",
      "metadata": {
        "id": "N9JhwwToHlHZ",
        "ExecuteTime": {
          "end_time": "2025-03-13T18:59:16.631771Z",
          "start_time": "2025-03-13T18:59:16.629780Z"
        }
      },
      "source": [
        "# Simple decorator\n",
        "def my_decorator(func):\n",
        "    def wrapper():\n",
        "        print(\"Something is happening before the function is called.\")\n",
        "        func()\n",
        "        print(\"Something is happening after the function is called.\")\n",
        "    return wrapper\n",
        "\n",
        "@my_decorator\n",
        "def say_hello():\n",
        "    print(\"Hello!\")\n",
        "\n",
        "say_hello()\n"
      ],
      "outputs": [],
      "execution_count": null
    },
    {
      "cell_type": "markdown",
      "id": "YP5GZn112tko",
      "metadata": {
        "id": "YP5GZn112tko"
      },
      "source": [
        "## Useful Python Libraries"
      ]
    },
    {
      "cell_type": "markdown",
      "id": "qdrcEQyTPK25",
      "metadata": {
        "id": "qdrcEQyTPK25"
      },
      "source": [
        "Python’s extensive ecosystem of libraries and frameworks significantly extends its capabilities. Libraries in Python are collections of modules and functions that simplify various programming tasks. This section covers how to install and use some essential Python libraries, the role of pip, and provides an overview of four widely-used libraries:  `matplotlib`, `numpy`, `pandas`, and `re`.\n"
      ]
    },
    {
      "cell_type": "markdown",
      "id": "7SBs0RIsPYOu",
      "metadata": {
        "id": "7SBs0RIsPYOu"
      },
      "source": [
        "**Installing Libraries with pip**<br>\n",
        "`pip` is the package installer for Python. It allows you to install and manage additional libraries that are not part of the Python standard library. To use pip, simply type the following command in your terminal or command prompt:\n",
        "\n",
        "\n",
        "```\n",
        "pip install library_name\n",
        "```\n",
        "Replace library_name with the name of the library you wish to install. For example, to install numpy, you would use:\n"
      ]
    },
    {
      "cell_type": "code",
      "id": "Tfqfj1oNPfPU",
      "metadata": {
        "id": "Tfqfj1oNPfPU",
        "ExecuteTime": {
          "end_time": "2025-03-13T18:59:17.579077Z",
          "start_time": "2025-03-13T18:59:16.639982Z"
        }
      },
      "source": [
        "!pip install numpy"
      ],
      "outputs": [],
      "execution_count": null
    },
    {
      "cell_type": "markdown",
      "id": "cd677a3c-1b8f-45b0-b919-c17fec964267",
      "metadata": {
        "id": "cd677a3c-1b8f-45b0-b919-c17fec964267"
      },
      "source": [
        "Note: Prefixing a command with `!` in Jupyter calls the command line shell of the operating system."
      ]
    },
    {
      "cell_type": "markdown",
      "id": "IygfcfLSPpDu",
      "metadata": {
        "id": "IygfcfLSPpDu"
      },
      "source": [
        "**Importing and Using Libraries**<br>\n",
        "Once a library is installed, you can import it into your Python script using the `import` statement.\n",
        "\n",
        "\n",
        "```\n",
        "import library_name\n",
        "```\n",
        "\n"
      ]
    },
    {
      "cell_type": "markdown",
      "id": "ttzZsKgiQRrc",
      "metadata": {
        "id": "ttzZsKgiQRrc"
      },
      "source": [
        "**Matplotlib**<br>`matplotlib` is a plotting library for creating static, interactive, and animated visualizations in Python. It's especially useful for data visualization and graphical plotting."
      ]
    },
    {
      "cell_type": "code",
      "id": "jeTYU-Uh2v_Q",
      "metadata": {
        "id": "jeTYU-Uh2v_Q",
        "ExecuteTime": {
          "end_time": "2025-03-13T18:59:17.946568Z",
          "start_time": "2025-03-13T18:59:17.584723Z"
        }
      },
      "source": [
        "%matplotlib inline\n",
        "from matplotlib import pyplot as plt\n",
        "plt.figure(figsize=(3,2))\n",
        "x = [1,2,3,4,5]\n",
        "y = [2,4,1,3.5,4]\n",
        "plt.plot(x, y);"
      ],
      "outputs": [],
      "execution_count": null
    },
    {
      "cell_type": "markdown",
      "id": "a0dad500",
      "metadata": {
        "id": "a0dad500"
      },
      "source": [
        "## Conclusion and Further Resources"
      ]
    },
    {
      "cell_type": "markdown",
      "id": "ae8554aa",
      "metadata": {
        "id": "ae8554aa"
      },
      "source": [
        "\n",
        "This notebook has provided a brief introduction to Python programming and Jupyter Notebooks. For further learning, consider the following resources:\n",
        "- [Python.org](https://www.python.org/doc/): The official Python documentation.\n",
        "- [Project Jupyter](https://jupyter.org/): Documentation and tutorials for Jupyter Notebooks.\n",
        "- Online courses and tutorials on platforms like Coursera, edX, and YouTube.\n"
      ]
    }
  ],
  "metadata": {
    "colab": {
      "provenance": []
    },
    "kernelspec": {
      "display_name": "Python 3 (ipykernel)",
      "language": "python",
      "name": "python3"
    },
    "language_info": {
      "codemirror_mode": {
        "name": "ipython",
        "version": 3
      },
      "file_extension": ".py",
      "mimetype": "text/x-python",
      "name": "python",
      "nbconvert_exporter": "python",
      "pygments_lexer": "ipython3",
      "version": "3.12.2"
    }
  },
  "nbformat": 4,
  "nbformat_minor": 5
}